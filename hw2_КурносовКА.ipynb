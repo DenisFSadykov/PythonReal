{
 "cells": [
  {
   "cell_type": "markdown",
   "metadata": {},
   "source": [
    "Центр непрерывного образования\n",
    "\n",
    "# Программа «Python для автоматизации и анализа данных»\n",
    "\n",
    "Неделя 3 - 1\n",
    "\n",
    "*Ян Пиле, НИУ ВШЭ*  \n"
   ]
  },
  {
   "cell_type": "markdown",
   "metadata": {},
   "source": [
    "## Задачи"
   ]
  },
  {
   "cell_type": "markdown",
   "metadata": {},
   "source": [
    "### Задача 1\n",
    "\n",
    "Дана строка, состоящая из слов. Сделать из нее аббревиатуру с помощью списковых включений\n",
    "\n",
    "**Вход:** \"Комитет Государственной Безопасности\"\n",
    "\n",
    "**Выход:** \"КГБ\""
   ]
  },
  {
   "cell_type": "code",
   "execution_count": 1,
   "metadata": {},
   "outputs": [
    {
     "name": "stdout",
     "output_type": "stream",
     "text": [
      "КГБ\n"
     ]
    }
   ],
   "source": [
    "text = \"Комитет Государственной Безопасности\"\n",
    "\n",
    "#Решение\n",
    "\n",
    "print(*[w[0] for w in text.split()], sep='')\n"
   ]
  },
  {
   "cell_type": "markdown",
   "metadata": {},
   "source": [
    "### Задача 2\n",
    "\n",
    "На вход принимается число N. \n",
    "\n",
    "Выведите на печать следующий паттерн:\n",
    "\n",
    "1\n",
    "\n",
    "1 2\n",
    "\n",
    "1 2 3\n",
    "\n",
    "1 2 3 4\n",
    "\n",
    "...\n",
    "\n",
    "1 ... N\n",
    "\n",
    "**Это не так просто)**"
   ]
  },
  {
   "cell_type": "code",
   "execution_count": 2,
   "metadata": {},
   "outputs": [
    {
     "name": "stdin",
     "output_type": "stream",
     "text": [
      " 4\n"
     ]
    },
    {
     "name": "stdout",
     "output_type": "stream",
     "text": [
      "1\n",
      "1 2\n",
      "1 2 3\n",
      "1 2 3 4\n"
     ]
    }
   ],
   "source": [
    "#Решение\n",
    "\n",
    "N = int(input())\n",
    "i = 1\n",
    "while N >= i:\n",
    "    print(*range(1,i+1))\n",
    "    i += 1\n"
   ]
  },
  {
   "cell_type": "markdown",
   "metadata": {},
   "source": [
    "### Задача 3\n",
    "\n",
    "Дана строка. Замените в ней все буквы А на # с помощью спискового включения.\n"
   ]
  },
  {
   "cell_type": "code",
   "execution_count": 3,
   "metadata": {},
   "outputs": [
    {
     "name": "stdout",
     "output_type": "stream",
     "text": [
      "#Б#ЖУР, #Б#ЗИНСКИЙ, #Б#ЗИНЫ, #ББ#Т, #ББ#ТИС#, #ББ#ТСТВО\n"
     ]
    }
   ],
   "source": [
    "stroka = 'АБАЖУР, АБАЗИНСКИЙ, АБАЗИНЫ, АББАТ, АББАТИСА, АББАТСТВО'\n",
    "print(''.join([letter if letter != 'А' else '#' for letter in stroka]))\n"
   ]
  },
  {
   "cell_type": "markdown",
   "metadata": {},
   "source": [
    "### Задача 4\n",
    "\n",
    "В математике существует так называемая последовательность чисел Фибоначчи. Выглядит она так: 1, 1, 2, 3, 5, 8, 13, ...\n",
    "\n",
    "Каждое последующее число равно сумме двух предыдущих, а первые два числа Фибоначчи - две единицы.\n",
    "Запросите с клавиатуры число N и запишите в список первые N чисел Фибоначчи."
   ]
  },
  {
   "cell_type": "code",
   "execution_count": 4,
   "metadata": {},
   "outputs": [
    {
     "name": "stdin",
     "output_type": "stream",
     "text": [
      "Сколько чисел Фибоначчи нужно сгенерировать?  15\n"
     ]
    },
    {
     "name": "stdout",
     "output_type": "stream",
     "text": [
      "[1, 1, 2, 3, 5, 8, 13, 21, 34, 55, 89, 144, 233, 377, 610]\n"
     ]
    }
   ],
   "source": [
    "# ваше решение здесь\n",
    "N = int(input('Сколько чисел Фибоначчи нужно сгенерировать? '))\n",
    "\n",
    "def fibonachi(n):\n",
    "    a, b = 1, 1\n",
    "    for i in range(n):\n",
    "        yield a\n",
    "#        a, b = b, a + b\n",
    "        prev = a      # сохраняем предыдущее значение во временной переменной\n",
    "        a = b         # сохраняем текущее значение\n",
    "        b = prev + a  # вычисляем следующее значение как сумму предыдущего и текущего\n",
    "\n",
    "Fib = list(fibonachi(N))\n",
    "print(Fib)"
   ]
  },
  {
   "cell_type": "markdown",
   "metadata": {},
   "source": [
    "### Задача 5 Подсчет слов\n",
    "Давайте теперь поработаем с настоящим файлом и действительно посчитаем в нем слова. Мы загрузим метаданные почтового сервера университета Мичигана. И попробуем найти, с какого адреса ушло больше всего писем."
   ]
  },
  {
   "cell_type": "code",
   "execution_count": 5,
   "metadata": {},
   "outputs": [
    {
     "name": "stdout",
     "output_type": "stream",
     "text": [
      "Больше всего писем отправлено с адреса: zqian@umich.edu. Отправлено 195 раз.\n",
      "\n",
      "zqian@umich.edu\n"
     ]
    }
   ],
   "source": [
    "# импортируем библиотеку для доступа к файлам в интернете\n",
    "import requests\n",
    "# в переменной mbox хранится текст для работы\n",
    "mbox = requests.get('http://www.py4inf.com/code/mbox.txt').text\n",
    "\n",
    "result_dict = {}\n",
    "\n",
    "for line in mbox.splitlines():\n",
    "    if line.startswith('From:'):\n",
    "        _, emails = line.split(': ')\n",
    "        result_dict[emails] = result_dict.get(emails, 0) + 1\n",
    "\n",
    "sorted_tuple = sorted(result_dict.items(), key=lambda x: x[1], reverse=True)\n",
    "\n",
    "print('Больше всего писем отправлено с адреса: %s. Отправлено %d раз.' % sorted_tuple[0])\n",
    "print()\n",
    "print(max(result_dict)) # можно без сортировки сразу вывести ключ с максимальным значением\n"
   ]
  },
  {
   "cell_type": "markdown",
   "metadata": {},
   "source": [
    "### Задача 6 Посчитать среднюю метрику X-DSPAM-Confidence для письма. \n",
    "### (Кажется, это что-то похожее на вероятность того, что письмо - не спам)\n",
    "\n",
    "Давайте воспользуемся предыдущим кодом и достанем те строчки, где эта метрика записана:"
   ]
  },
  {
   "cell_type": "code",
   "execution_count": 6,
   "metadata": {},
   "outputs": [
    {
     "name": "stdout",
     "output_type": "stream",
     "text": [
      "Кол-во строк, где записана метрика =  1797\n",
      "Сумма всех метрик X-DSPAM-Confidence = 1606.7481\n",
      "Cреднее значение метрики X-DSPAM-Confidence для письма = 0.8941\n"
     ]
    }
   ],
   "source": [
    "# импортируем библиотеку для доступа к файлам в интернете\n",
    "import requests\n",
    "# в переменной mbox хранится текст для работы\n",
    "mbox = requests.get('http://www.py4inf.com/code/mbox.txt').text\n",
    "\n",
    "result_dict = {}\n",
    "float_list = []\n",
    "\n",
    "for line in mbox.splitlines():\n",
    "    if line.startswith('X-DSPAM-Confidence: 0'):\n",
    "        _, val = line.split(': ')\n",
    "        float_list += [float(val)]\n",
    "\n",
    "count = len(float_list)\n",
    "print('Кол-во строк, где записана метрика = ', count)\n",
    "list_sum = sum(float_list)\n",
    "print('Сумма всех метрик X-DSPAM-Confidence = %.4f' % list_sum)\n",
    "list_avg = list_sum / count\n",
    "print('Cреднее значение метрики X-DSPAM-Confidence для письма = %.4f' % list_avg)\n"
   ]
  },
  {
   "cell_type": "markdown",
   "metadata": {},
   "source": [
    "### Задача 7 Объединение словарей\n",
    "\n",
    "Напишите программу, которая объединяет значения из двух списков.\n",
    "\n",
    "Ввод:\n",
    "\n",
    "    shops = [{'товар': 'яблоки', 'количество': 400}, {'товар': 'конфеты', 'количество': 300}, {'товар': 'яблоки', 'количество': 750}]\n",
    "\n",
    "\n",
    "Вывод:\n",
    "\n",
    "    {'яблоки': 1150, 'конфеты': 300}"
   ]
  },
  {
   "cell_type": "code",
   "execution_count": 7,
   "metadata": {},
   "outputs": [
    {
     "name": "stdout",
     "output_type": "stream",
     "text": [
      "{'яблоки': 1150, 'конфеты': 300}\n"
     ]
    }
   ],
   "source": [
    "shops = [{'товар': 'яблоки', 'количество': 400}, \n",
    "         {'товар': 'конфеты', 'количество': 300}, \n",
    "         {'товар': 'яблоки', 'количество': 750}]\n",
    "\n",
    "products = dict()\n",
    "for product in shops:\n",
    "    if product['товар'] in products:\n",
    "        products[product['товар']] += product['количество']\n",
    "    else:\n",
    "        products[product['товар']] = product['количество']\n",
    "print(products)\n"
   ]
  },
  {
   "cell_type": "markdown",
   "metadata": {},
   "source": [
    "### Задача 8 Найти все числа от 1000 до 3000 включительно, все цифры которых четные.\n",
    "\n",
    "Программа должна выдавать результат в виде разделенной запятыми строки"
   ]
  },
  {
   "cell_type": "code",
   "execution_count": 8,
   "metadata": {},
   "outputs": [
    {
     "name": "stdout",
     "output_type": "stream",
     "text": [
      "2000, 2002, 2004, 2006, 2008, 2020, 2022, 2024, 2026, 2028, 2040, 2042, 2044, 2046, 2048, 2060, 2062, 2064, 2066, 2068, 2080, 2082, 2084, 2086, 2088, 2200, 2202, 2204, 2206, 2208, 2220, 2222, 2224, 2226, 2228, 2240, 2242, 2244, 2246, 2248, 2260, 2262, 2264, 2266, 2268, 2280, 2282, 2284, 2286, 2288, 2400, 2402, 2404, 2406, 2408, 2420, 2422, 2424, 2426, 2428, 2440, 2442, 2444, 2446, 2448, 2460, 2462, 2464, 2466, 2468, 2480, 2482, 2484, 2486, 2488, 2600, 2602, 2604, 2606, 2608, 2620, 2622, 2624, 2626, 2628, 2640, 2642, 2644, 2646, 2648, 2660, 2662, 2664, 2666, 2668, 2680, 2682, 2684, 2686, 2688, 2800, 2802, 2804, 2806, 2808, 2820, 2822, 2824, 2826, 2828, 2840, 2842, 2844, 2846, 2848, 2860, 2862, 2864, 2866, 2868, 2880, 2882, 2884, 2886, 2888\n",
      "CPU times: user 2.13 ms, sys: 711 µs, total: 2.85 ms\n",
      "Wall time: 2.2 ms\n"
     ]
    }
   ],
   "source": [
    "%%time\n",
    "# Первый вариант решения\n",
    "def num_par(val):  # проверка каждой цифры в числе на чётность\n",
    "    res = 0\n",
    "    n = 0\n",
    "    nn = len(str(val)) # кол-во цифр в числе\n",
    "    while val != 0:\n",
    "        n = val % 10\n",
    "        if n % 2 == 0:\n",
    "            res = res + 1\n",
    "        else:\n",
    "            res = res - 1\n",
    "        val //= 10\n",
    "\n",
    "    return res == nn\n",
    "\n",
    "res_all = list()\n",
    "\n",
    "for i in range(1000, 3001, 2):\n",
    "    if num_par(i):\n",
    "        res_all.append(i)\n",
    "\n",
    "print(*res_all, sep=', ')\n"
   ]
  },
  {
   "cell_type": "code",
   "execution_count": 9,
   "metadata": {},
   "outputs": [
    {
     "name": "stdout",
     "output_type": "stream",
     "text": [
      "2000, 2002, 2004, 2006, 2008, 2020, 2022, 2024, 2026, 2028, 2040, 2042, 2044, 2046, 2048, 2060, 2062, 2064, 2066, 2068, 2080, 2082, 2084, 2086, 2088, 2200, 2202, 2204, 2206, 2208, 2220, 2222, 2224, 2226, 2228, 2240, 2242, 2244, 2246, 2248, 2260, 2262, 2264, 2266, 2268, 2280, 2282, 2284, 2286, 2288, 2400, 2402, 2404, 2406, 2408, 2420, 2422, 2424, 2426, 2428, 2440, 2442, 2444, 2446, 2448, 2460, 2462, 2464, 2466, 2468, 2480, 2482, 2484, 2486, 2488, 2600, 2602, 2604, 2606, 2608, 2620, 2622, 2624, 2626, 2628, 2640, 2642, 2644, 2646, 2648, 2660, 2662, 2664, 2666, 2668, 2680, 2682, 2684, 2686, 2688, 2800, 2802, 2804, 2806, 2808, 2820, 2822, 2824, 2826, 2828, 2840, 2842, 2844, 2846, 2848, 2860, 2862, 2864, 2866, 2868, 2880, 2882, 2884, 2886, 2888\n",
      "CPU times: user 1.79 ms, sys: 877 µs, total: 2.67 ms\n",
      "Wall time: 1.9 ms\n"
     ]
    }
   ],
   "source": [
    "%%time\n",
    "# Второй вариант решения (сравнение быстродействия)\n",
    "nList = list(range(1000, 3001, 2))\n",
    "\n",
    "evenList = []\n",
    "evenSet = {'0', '2', '4', '6', '8'}\n",
    "for n in nList:\n",
    "    if set(str(n)) <= evenSet:\n",
    "        evenList.append(n)\n",
    "        #print(n, end=', ')\n",
    "\n",
    "print(*evenList, sep=', ')\n"
   ]
  },
  {
   "cell_type": "markdown",
   "metadata": {},
   "source": [
    "### Задача 9 Найти количество цифр и количество букв в строке\n",
    "\n",
    "Вход: \"абвгд 234\"\n",
    "\n",
    "\n",
    "Выход:\n",
    "\n",
    "    Цифры: 3\n",
    "    Буквы: 5"
   ]
  },
  {
   "cell_type": "code",
   "execution_count": 10,
   "metadata": {},
   "outputs": [
    {
     "name": "stdout",
     "output_type": "stream",
     "text": [
      "абвгд 234\n",
      "Цифры:  3\n",
      "Буквы:  5\n"
     ]
    }
   ],
   "source": [
    "import re\n",
    "#string = input()\n",
    "#string = 'абвгд 234 dff 34er12'\n",
    "string = 'абвгд 234'\n",
    "print(string)\n",
    "\n",
    "numbers = re.findall(r'\\d', string)\n",
    "print('Цифры: ', len(numbers))\n",
    "\n",
    "letters = re.findall(r'[А-Яа-яёЁA-Za-z]', string)\n",
    "print('Буквы: ', len(letters))\n"
   ]
  },
  {
   "cell_type": "markdown",
   "metadata": {},
   "source": [
    "### Задача 10 Найти частоту слов в строке. Строка вводится с клавиатуры, допустим, она разделена пробелами\n",
    "\n",
    "Вход: \"Я не кидал никого никогда\"\n",
    "\n",
    "\n",
    "Выход:\n",
    "\n",
    "    Я:1\n",
    "    не:1\n",
    "    кидал:1\n",
    "    никого:1\n",
    "    никогда:1"
   ]
  },
  {
   "cell_type": "code",
   "execution_count": 11,
   "metadata": {},
   "outputs": [
    {
     "name": "stdin",
     "output_type": "stream",
     "text": [
      " Я не кидал никого никогда\n"
     ]
    },
    {
     "name": "stdout",
     "output_type": "stream",
     "text": [
      "Я:1\n",
      "не:1\n",
      "кидал:1\n",
      "никого:1\n",
      "никогда:1\n"
     ]
    }
   ],
   "source": [
    "#s = 'Я не кидал никого никогда точно никогда Конечно точно'\n",
    "s = input()\n",
    "\n",
    "wordList = s.split()\n",
    "sDict = dict()\n",
    "for word in wordList:\n",
    "    if word in sDict:\n",
    "        sDict[word] +=1\n",
    "    else:\n",
    "        sDict[word] = 1\n",
    "for i in sDict:\n",
    "    print(i, ':', sDict[i], sep='')\n"
   ]
  },
  {
   "cell_type": "markdown",
   "metadata": {},
   "source": [
    "### Задача 11 Дан массив из чисел. Отсортируйте его, не используя встроенных функций. (циклами for, например). Ожидаю получить сортировку пузырьком)\n",
    "\n",
    "Вход: На вход дана последовательность из N случайных чисел. Например [48, 59, 9, 90, 15, 58, 19, 49, 13, 7]\n",
    "\n",
    "\n",
    "Выход:\n",
    "\n",
    "    Отсортированная последовательность [7, 9, 13, 15, 19, 48, 49, 58, 59, 90]"
   ]
  },
  {
   "cell_type": "code",
   "execution_count": 12,
   "metadata": {},
   "outputs": [
    {
     "name": "stdout",
     "output_type": "stream",
     "text": [
      "[15, 15, 20, 68, 83, 50, 66, 2, 73, 93]\n",
      "Отсортированная последовательность [2, 15, 15, 20, 50, 66, 68, 73, 83, 93]\n",
      "CPU times: user 518 µs, sys: 168 µs, total: 686 µs\n",
      "Wall time: 608 µs\n"
     ]
    }
   ],
   "source": [
    "%%time\n",
    "# первый вариант с помощью циклов for\n",
    "from random import randint\n",
    " \n",
    "N = 10\n",
    "a = []\n",
    "for i in range(N):\n",
    "    a.append(randint(1, 99))\n",
    "print(a)\n",
    "\n",
    "for i in range(N-1):\n",
    "    for j in range(N-i-1):\n",
    "        if a[j] > a[j+1]:\n",
    "            a[j], a[j+1] = a[j+1], a[j]\n",
    "\n",
    "\n",
    "print('Отсортированная последовательность', a)\n"
   ]
  },
  {
   "cell_type": "code",
   "execution_count": 13,
   "metadata": {},
   "outputs": [
    {
     "name": "stdout",
     "output_type": "stream",
     "text": [
      "[99, 7, 50, 39, 2, 15, 98, 7, 9, 17]\n",
      "Отсортированная последовательность [2, 7, 7, 9, 15, 17, 39, 50, 98, 99]\n",
      "CPU times: user 329 µs, sys: 83 µs, total: 412 µs\n",
      "Wall time: 362 µs\n"
     ]
    }
   ],
   "source": [
    "%%time\n",
    "# второй вариант c помощью циклов while\n",
    "from random import randint\n",
    " \n",
    "N = 10\n",
    "a = []\n",
    "for i in range(N):\n",
    "    a.append(randint(1, 99))\n",
    "print(a)\n",
    "\n",
    "i = 0\n",
    "while i < N - 1:\n",
    "    j = 0\n",
    "    while j < N - 1 - i:\n",
    "        if a[j] > a[j+1]:\n",
    "            a[j], a[j+1] = a[j+1], a[j]\n",
    "        j += 1\n",
    "    i += 1\n",
    "\n",
    "print('Отсортированная последовательность', a)\n"
   ]
  },
  {
   "cell_type": "markdown",
   "metadata": {},
   "source": [
    "### Задача 12 Про Поросёнка Петра\n",
    "\n",
    "На плоскости в точке (0,0) стоит Поросёнок Пётр. Он умеет ходить налево, направо, вверх и вниз. Расстояние его прохода в какую-либо сторону измеряется в шагах. Когда он идет вправо, его первая координата увеличивается, когда влево - уменьшается. Когда он идет вверх, его вторая координата увеличивается, а когда вниз - уменьшается. \n",
    "\n",
    "С клавиатуры считывается число N - число ходов, которые сделает Пётр. После чего на каждом шаге спрашивается, сколько шагов и в какую сторону за этот ход Пётр сделает. Так происходит, пока Пётр не осуществит все N ходов.\n",
    "\n",
    "Программа должна вывести, сколько шагов Пётр должен был бы сделать, чтобы кратчайшим путем прибыть из свое начальной точки (0,0) в свою конечную точку. Напоминание: Пётр умеет ходить только вверх-вниз, и влево-вправо, но не по диагонали.\n",
    "\n",
    "Пример ввода: \n",
    "\n",
    "    Введите N: 3\n",
    "    Ход 1: Вверх 1\n",
    "    Ход 2: Вниз 1\n",
    "    Ход 3: Вверх 1\n",
    "    \n",
    "Пример вывода:\n",
    "\n",
    "    Пётр находится на расстоянии 1 от (0,0)"
   ]
  },
  {
   "cell_type": "code",
   "execution_count": 14,
   "metadata": {},
   "outputs": [
    {
     "name": "stdin",
     "output_type": "stream",
     "text": [
      "Введите N:  3\n",
      "Ход 1:  Вверх 4\n",
      "Ход 2:  Вправо 3\n",
      "Ход 3:  Влево 1\n"
     ]
    },
    {
     "name": "stdout",
     "output_type": "stream",
     "text": [
      "Пётр находится на расстоянии 6 от (0,0)\n"
     ]
    }
   ],
   "source": [
    "\n",
    "start_coord_x = 0\n",
    "start_coord_y = 0\n",
    " \n",
    "moves_count = int(input('Введите N: '))\n",
    "for move in range(moves_count):\n",
    "    current_move = input(f'Ход {move + 1}: ')\n",
    "    move_direction, move_coord = current_move.split()\n",
    "    if move_direction == 'Вверх':\n",
    "        start_coord_y += int(move_coord)\n",
    "    if move_direction == 'Вниз':\n",
    "        start_coord_y -= int(move_coord)\n",
    "    if move_direction == 'Вправо':\n",
    "        start_coord_x += int(move_coord)\n",
    "    if move_direction == 'Влево':\n",
    "        start_coord_x -= int(move_coord)\n",
    "print(f'Пётр находится на расстоянии {abs(start_coord_x) + abs(start_coord_y)} от (0,0)')\n"
   ]
  },
  {
   "cell_type": "code",
   "execution_count": null,
   "metadata": {},
   "outputs": [],
   "source": []
  }
 ],
 "metadata": {
  "kernelspec": {
   "display_name": "Python 3",
   "language": "python",
   "name": "python3"
  },
  "language_info": {
   "codemirror_mode": {
    "name": "ipython",
    "version": 3
   },
   "file_extension": ".py",
   "mimetype": "text/x-python",
   "name": "python",
   "nbconvert_exporter": "python",
   "pygments_lexer": "ipython3",
   "version": "3.8.8"
  }
 },
 "nbformat": 4,
 "nbformat_minor": 4
}
