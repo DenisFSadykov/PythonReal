{
 "cells": [
  {
   "cell_type": "markdown",
   "id": "ba17c45b-8a64-47f4-b0cf-1d7de3f716f6",
   "metadata": {},
   "source": [
    "\"Как сменить рабочую директорию, куда смотрит Юпитер\": \n",
    "1) https://stackoverflow.com/questions/15680463/change-ipython-jupyter-notebook-working-directory"
   ]
  },
  {
   "cell_type": "markdown",
   "id": "9bf3ad95-f25d-4d87-b8a8-cf72b37fa5a8",
   "metadata": {},
   "source": [
    "2) с текстом и картинками (новенькое)\n",
    "https://shanyitan.medium.com/how-to-change-the-working-directory-of-jupyter-and-jupyter-lab-on-windows-environment-bbe5a5a99f05"
   ]
  },
  {
   "cell_type": "markdown",
   "id": "71856231-f2d8-4821-b51a-a4e711b8acc8",
   "metadata": {},
   "source": [
    "А еще я вчера какие-то команды в терминале писал. типа cd, touch и тд\n",
    "\n",
    "https://towardsdatascience.com/rock-the-command-line-52c4b2ea34b7"
   ]
  },
  {
   "cell_type": "code",
   "execution_count": 13,
   "id": "780c8697-d5d5-4ccc-9c04-d1e14d35c773",
   "metadata": {},
   "outputs": [
    {
     "name": "stdout",
     "output_type": "stream",
     "text": [
      "Halloа\n"
     ]
    }
   ],
   "source": [
    "print (\"Halloа\")"
   ]
  },
  {
   "cell_type": "code",
   "execution_count": 14,
   "id": "04304921-936f-40d4-a693-4bc8e12bafeb",
   "metadata": {},
   "outputs": [
    {
     "name": "stdin",
     "output_type": "stream",
     "text": [
      "Как вас зовут? а\n"
     ]
    },
    {
     "name": "stdout",
     "output_type": "stream",
     "text": [
      "<class 'str'>\n"
     ]
    }
   ],
   "source": [
    "x = input('Как вас зовут?')\n",
    "print(type(x))"
   ]
  },
  {
   "cell_type": "code",
   "execution_count": 15,
   "id": "220c49bc-021c-4552-b485-d2ff1b2a0d3c",
   "metadata": {},
   "outputs": [
    {
     "name": "stdin",
     "output_type": "stream",
     "text": [
      " 3\n"
     ]
    },
    {
     "name": "stdout",
     "output_type": "stream",
     "text": [
      "110889\n"
     ]
    }
   ],
   "source": [
    "x = input()\n",
    "print((int(x*int(x)))**2)"
   ]
  },
  {
   "cell_type": "code",
   "execution_count": null,
   "id": "52d807d0-30ee-46b3-9afd-b1341f93157f",
   "metadata": {},
   "outputs": [],
   "source": []
  }
 ],
 "metadata": {
  "kernelspec": {
   "display_name": "Python 3",
   "language": "python",
   "name": "python3"
  },
  "language_info": {
   "codemirror_mode": {
    "name": "ipython",
    "version": 3
   },
   "file_extension": ".py",
   "mimetype": "text/x-python",
   "name": "python",
   "nbconvert_exporter": "python",
   "pygments_lexer": "ipython3",
   "version": "3.8.8"
  }
 },
 "nbformat": 4,
 "nbformat_minor": 5
}
