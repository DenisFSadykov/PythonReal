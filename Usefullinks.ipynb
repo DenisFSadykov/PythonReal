{
 "cells": [
  {
   "cell_type": "markdown",
   "id": "ba17c45b-8a64-47f4-b0cf-1d7de3f716f6",
   "metadata": {},
   "source": [
    "\"Как сменить рабочую директорию, куда смотрит Юпитер\": \n",
    "1) https://stackoverflow.com/questions/15680463/change-ipython-jupyter-notebook-working-directory"
   ]
  },
  {
   "cell_type": "markdown",
   "id": "9bf3ad95-f25d-4d87-b8a8-cf72b37fa5a8",
   "metadata": {},
   "source": [
    "2) с текстом и картинками (новенькое)\n",
    "https://shanyitan.medium.com/how-to-change-the-working-directory-of-jupyter-and-jupyter-lab-on-windows-environment-bbe5a5a99f05"
   ]
  },
  {
   "cell_type": "markdown",
   "id": "71856231-f2d8-4821-b51a-a4e711b8acc8",
   "metadata": {},
   "source": [
    "А еще я вчера какие-то команды в терминале писал. типа cd, touch и тд\n",
    "\n",
    "https://towardsdatascience.com/rock-the-command-line-52c4b2ea34b7"
   ]
  },
  {
   "cell_type": "code",
   "execution_count": 13,
   "id": "780c8697-d5d5-4ccc-9c04-d1e14d35c773",
   "metadata": {},
   "outputs": [
    {
     "name": "stdout",
     "output_type": "stream",
     "text": [
      "Halloа\n"
     ]
    }
   ],
   "source": [
    "print (\"Halloа\")"
   ]
  },
  {
   "cell_type": "code",
   "execution_count": 24,
   "id": "04304921-936f-40d4-a693-4bc8e12bafeb",
   "metadata": {},
   "outputs": [
    {
     "name": "stdin",
     "output_type": "stream",
     "text": [
      "Как вас зовут? fjhj\n"
     ]
    },
    {
     "name": "stdout",
     "output_type": "stream",
     "text": [
      "<class 'str'>\n"
     ]
    }
   ],
   "source": [
    "x = input('Как вас зовут?')\n",
    "print(type(x))"
   ]
  },
  {
   "cell_type": "code",
   "execution_count": 15,
   "id": "220c49bc-021c-4552-b485-d2ff1b2a0d3c",
   "metadata": {},
   "outputs": [
    {
     "name": "stdin",
     "output_type": "stream",
     "text": [
      " 3\n"
     ]
    },
    {
     "name": "stdout",
     "output_type": "stream",
     "text": [
      "110889\n"
     ]
    }
   ],
   "source": [
    "x = input()\n",
    "print((int(x*int(x)))**2)"
   ]
  },
  {
   "cell_type": "code",
   "execution_count": 18,
   "id": "52d807d0-30ee-46b3-9afd-b1341f93157f",
   "metadata": {},
   "outputs": [
    {
     "name": "stdin",
     "output_type": "stream",
     "text": [
      " 892\n"
     ]
    },
    {
     "name": "stdout",
     "output_type": "stream",
     "text": [
      "8 9 2\n",
      "19\n"
     ]
    }
   ],
   "source": [
    "x = int(input())\n",
    "x_1 = x // 100\n",
    "x_2 = x // 10 % 10\n",
    "x_3 = x % 10\n",
    "print(x_1, x_2, x_3) # тестовый вывод, проверяем, что правильно \"достали\" цифры из числа\n",
    "print(x_1 + x_2 + x_3) # ответ на задачу"
   ]
  },
  {
   "cell_type": "code",
   "execution_count": 21,
   "id": "e11e0277-50ec-48bf-9729-c5bb77f53188",
   "metadata": {},
   "outputs": [
    {
     "name": "stdout",
     "output_type": "stream",
     "text": [
      "12 7\n"
     ]
    }
   ],
   "source": [
    "minutes = 9367\n",
    "\n",
    "print(minutes // 60 % 24, minutes % 60)"
   ]
  },
  {
   "cell_type": "code",
   "execution_count": 23,
   "id": "f4fa316e-cb8c-40f9-8796-46455841e1a2",
   "metadata": {},
   "outputs": [
    {
     "name": "stdout",
     "output_type": "stream",
     "text": [
      "False\n"
     ]
    }
   ],
   "source": [
    "time = 18\n",
    "can_visit = 6 <= time <= 8\n",
    "can_visit2 = 16 <= time <= 17\n",
    "print(can_visit or can_visit2)"
   ]
  },
  {
   "cell_type": "code",
   "execution_count": 25,
   "id": "6aa087a2-20bf-4920-81b4-327dd7e98feb",
   "metadata": {},
   "outputs": [
    {
     "name": "stdin",
     "output_type": "stream",
     "text": [
      "Input x value:  4\n",
      "Input y value:  5\n"
     ]
    },
    {
     "name": "stdout",
     "output_type": "stream",
     "text": [
      "45\n"
     ]
    }
   ],
   "source": [
    "x = input('Input x value: ')\n",
    "y = input('Input y value: ')\n",
    "print(x + y) # произошла склейка строк, по умолчанию input() сохраняет значение типа str"
   ]
  },
  {
   "cell_type": "code",
   "execution_count": 29,
   "id": "b6e1d85c-9c59-4d9f-ab14-be56347e2e3b",
   "metadata": {},
   "outputs": [
    {
     "name": "stdout",
     "output_type": "stream",
     "text": [
      "с\n",
      "а\n"
     ]
    }
   ],
   "source": [
    "x = 'слова'\n",
    "print(x[0])\n",
    "print(x[-1])"
   ]
  },
  {
   "cell_type": "code",
   "execution_count": 1,
   "id": "e3c2f8fa-b93b-4bd7-b91f-d4b00724998b",
   "metadata": {},
   "outputs": [
    {
     "data": {
      "text/plain": [
       "{0, 1, 2, 3, 4, 5, 6, 7, 8, 9}"
      ]
     },
     "execution_count": 1,
     "metadata": {},
     "output_type": "execute_result"
    }
   ],
   "source": [
    "set(range(10))"
   ]
  },
  {
   "cell_type": "code",
   "execution_count": 3,
   "id": "92cb2ab2-c4f1-4b82-aca9-67092b504efc",
   "metadata": {},
   "outputs": [
    {
     "name": "stdin",
     "output_type": "stream",
     "text": [
      " 3 4 5 982 567 37 5\n"
     ]
    },
    {
     "name": "stdout",
     "output_type": "stream",
     "text": [
      "[3, 4, 5, 982, 567, 37, 5]\n",
      "3-4-5-982-567-37-5\n"
     ]
    }
   ],
   "source": [
    "phone = list(map(int, input().split())) # получаем строку, разбиваем по пробелу, сразу преобразуем все элементы в числа\n",
    "print(phone)\n",
    "print('-'.join(list(map(str, phone)))) # преобразуем массив чисел в массив строк и склеиваем через дефис"
   ]
  },
  {
   "cell_type": "code",
   "execution_count": 13,
   "id": "d9474589-31d4-4026-aeb4-bb205de78f3c",
   "metadata": {},
   "outputs": [
    {
     "name": "stdin",
     "output_type": "stream",
     "text": [
      " 2\n",
      " 78\n"
     ]
    },
    {
     "name": "stdout",
     "output_type": "stream",
     "text": [
      "2 3 4 5 6 7 8 9 10 11 12 13 14 15 16 17 18 19 20 21 22 23 24 25 26 27 28 29 30 31 32 33 34 35 36 37 38 39 40 41 42 43 44 45 46 47 48 49 50 51 52 53 54 55 56 57 58 59 60 61 62 63 64 65 66 67 68 69 70 71 72 73 74 75 76 77 78\n"
     ]
    }
   ],
   "source": [
    "a = int(input())\n",
    "b = int(input())\n",
    "if a < b:\n",
    "    print (*range(a,b+1))\n",
    "else:\n",
    "    print (*range(a,b-1,-1))"
   ]
  },
  {
   "cell_type": "code",
   "execution_count": 14,
   "id": "1bf92f34-65c9-4ce8-93d6-e2ebe0889995",
   "metadata": {},
   "outputs": [
    {
     "name": "stdin",
     "output_type": "stream",
     "text": [
      " 1\n",
      " 10\n"
     ]
    },
    {
     "name": "stdout",
     "output_type": "stream",
     "text": [
      "1 2 3 4 5 6 7 8 9 10\n"
     ]
    }
   ],
   "source": [
    "a = int(input())\n",
    "b = int(input())\n",
    "if a < b:\n",
    "    lst1 = [i for i in range(a,b+1)]\n",
    "    print (*lst1)\n",
    "else:\n",
    "    lst2 = [i for i in range(a,b-1,-1)]\n",
    "    print (*lst2)"
   ]
  },
  {
   "cell_type": "code",
   "execution_count": 15,
   "id": "767a3770-5b80-4490-b2a7-e9d56453c29f",
   "metadata": {},
   "outputs": [
    {
     "name": "stdin",
     "output_type": "stream",
     "text": [
      " 1 2 3 0 0 9 8 7 0 \n"
     ]
    },
    {
     "name": "stdout",
     "output_type": "stream",
     "text": [
      "3\n"
     ]
    }
   ],
   "source": [
    "lst = map(int, input().split())\n",
    "cnt = 0\n",
    "for x in lst:\n",
    "    if x == 0:\n",
    "        cnt += 1\n",
    "print (cnt)"
   ]
  },
  {
   "cell_type": "code",
   "execution_count": 16,
   "id": "ef18bffa-a20d-487a-bc89-776ec274b59f",
   "metadata": {},
   "outputs": [
    {
     "name": "stdin",
     "output_type": "stream",
     "text": [
      " 0 2 3 0 1 0\n"
     ]
    },
    {
     "name": "stdout",
     "output_type": "stream",
     "text": [
      "3\n"
     ]
    }
   ],
   "source": [
    "lst = map(int, input().split())\n",
    "lst = [x for x in lst if x == 0]\n",
    "print (len(lst))"
   ]
  },
  {
   "cell_type": "code",
   "execution_count": 19,
   "id": "88d5c7bb-dad4-4c9c-a9af-de8e8709cd75",
   "metadata": {},
   "outputs": [
    {
     "name": "stdout",
     "output_type": "stream",
     "text": [
      "36\n"
     ]
    }
   ],
   "source": [
    "print (*[x for x in range(10, 100) if x == x // 10 * (x % 10) * 2])"
   ]
  },
  {
   "cell_type": "code",
   "execution_count": 20,
   "id": "7945ec84-22c5-4a09-9f48-07ca247bf74d",
   "metadata": {},
   "outputs": [
    {
     "name": "stdin",
     "output_type": "stream",
     "text": [
      " 5\n"
     ]
    },
    {
     "name": "stdout",
     "output_type": "stream",
     "text": [
      "1 1\n",
      "2 3\n",
      "6 9\n",
      "24 33\n",
      "120 153\n"
     ]
    }
   ],
   "source": [
    "a = int(input())\n",
    "s = 0\n",
    "frac = 1\n",
    "for x in range(1,a+1):\n",
    "    frac *= x\n",
    "    s += frac\n",
    "    print (frac, s)"
   ]
  },
  {
   "cell_type": "code",
   "execution_count": 25,
   "id": "132664d9-2bfe-44a2-9b76-ba17f784c196",
   "metadata": {},
   "outputs": [
    {
     "name": "stdin",
     "output_type": "stream",
     "text": [
      " 3\n"
     ]
    },
    {
     "name": "stdout",
     "output_type": "stream",
     "text": [
      "2*1=2\n",
      "2*2=4\n",
      "2*3=6\n",
      "2*4=8\n",
      "2*5=10\n",
      "2*6=12\n",
      "2*7=14\n",
      "2*8=16\n",
      "2*9=18\n",
      "2*10=20\n",
      "\n",
      "3*1=3\n",
      "3*2=6\n",
      "3*3=9\n",
      "3*4=12\n",
      "3*5=15\n",
      "3*6=18\n",
      "3*7=21\n",
      "3*8=24\n",
      "3*9=27\n",
      "3*10=30\n",
      "\n"
     ]
    }
   ],
   "source": [
    "n = int(input())\n",
    "for x in range(2,n+1):\n",
    "    for y in range (1,11):\n",
    "        print (f'{x}*{y}={x*y}')\n",
    "    print()"
   ]
  },
  {
   "cell_type": "code",
   "execution_count": null,
   "id": "34852c86-1395-4033-84e0-cd9b7aa650c4",
   "metadata": {},
   "outputs": [],
   "source": []
  }
 ],
 "metadata": {
  "kernelspec": {
   "display_name": "Python 3",
   "language": "python",
   "name": "python3"
  },
  "language_info": {
   "codemirror_mode": {
    "name": "ipython",
    "version": 3
   },
   "file_extension": ".py",
   "mimetype": "text/x-python",
   "name": "python",
   "nbconvert_exporter": "python",
   "pygments_lexer": "ipython3",
   "version": "3.8.8"
  }
 },
 "nbformat": 4,
 "nbformat_minor": 5
}
