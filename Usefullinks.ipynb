{
 "cells": [
  {
   "cell_type": "markdown",
   "id": "ba17c45b-8a64-47f4-b0cf-1d7de3f716f6",
   "metadata": {},
   "source": [
    "\"Как сменить рабочую директорию, куда смотрит Юпитер\": \n",
    "1) https://stackoverflow.com/questions/15680463/change-ipython-jupyter-notebook-working-directory"
   ]
  },
  {
   "cell_type": "markdown",
   "id": "9bf3ad95-f25d-4d87-b8a8-cf72b37fa5a8",
   "metadata": {},
   "source": [
    "2) с текстом и картинками (новенькое)\n",
    "https://shanyitan.medium.com/how-to-change-the-working-directory-of-jupyter-and-jupyter-lab-on-windows-environment-bbe5a5a99f05"
   ]
  },
  {
   "cell_type": "markdown",
   "id": "71856231-f2d8-4821-b51a-a4e711b8acc8",
   "metadata": {},
   "source": [
    "А еще я вчера какие-то команды в терминале писал. типа cd, touch и тд\n",
    "\n",
    "https://towardsdatascience.com/rock-the-command-line-52c4b2ea34b7"
   ]
  },
  {
   "cell_type": "code",
   "execution_count": 5,
   "id": "780c8697-d5d5-4ccc-9c04-d1e14d35c773",
   "metadata": {},
   "outputs": [
    {
     "name": "stdout",
     "output_type": "stream",
     "text": [
      "Hallo\n"
     ]
    }
   ],
   "source": [
    "print (\"Hallo\")"
   ]
  }
 ],
 "metadata": {
  "kernelspec": {
   "display_name": "Python 3",
   "language": "python",
   "name": "python3"
  },
  "language_info": {
   "codemirror_mode": {
    "name": "ipython",
    "version": 3
   },
   "file_extension": ".py",
   "mimetype": "text/x-python",
   "name": "python",
   "nbconvert_exporter": "python",
   "pygments_lexer": "ipython3",
   "version": "3.8.8"
  }
 },
 "nbformat": 4,
 "nbformat_minor": 5
}
