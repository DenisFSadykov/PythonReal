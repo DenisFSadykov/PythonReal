{
 "cells": [
  {
   "cell_type": "markdown",
   "metadata": {},
   "source": [
    "#### Задача 1.  \n",
    "##### Даны два целых числа A и В. Выведите все числа от A до B включительно,  \n",
    "#### в порядке возрастания, если A < B, или в порядке убывания в противном случае.  \n",
    "**Вход:** \n",
    "\n",
    "            1\n",
    "            10\n",
    "            \n",
    "**Выход:** \n",
    "\n",
    "            1 2 3 4 5 6 7 8 9 10 \n",
    "            \n",
    "            \n",
    "**Вход:** \n",
    "\n",
    "            10\n",
    "            1\n",
    "            \n",
    "**Выход:** \n",
    "\n",
    "            10 9 8 7 6 5 4 3 2 1 "
   ]
  },
  {
   "cell_type": "code",
   "execution_count": null,
   "metadata": {},
   "outputs": [],
   "source": []
  },
  {
   "cell_type": "markdown",
   "metadata": {},
   "source": [
    "#### Задача 2.  \n",
    "#### Дано несколько чисел. Посчитайте, сколько из них равны нулю, и выведите это количество.   \n",
    "**Вход:** \n",
    "\n",
    "            5 0 7 0 2 2\n",
    "            \n",
    "**Выход:** \n",
    "\n",
    "            2\n",
    "            "
   ]
  },
  {
   "cell_type": "code",
   "execution_count": null,
   "metadata": {},
   "outputs": [],
   "source": []
  },
  {
   "cell_type": "markdown",
   "metadata": {},
   "source": [
    "#### Задача 3.  \n",
    "###  Найдите и выведите все двузначные числа, которые равны удвоенному произведению своих цифр."
   ]
  },
  {
   "cell_type": "code",
   "execution_count": null,
   "metadata": {},
   "outputs": [],
   "source": []
  },
  {
   "cell_type": "markdown",
   "metadata": {},
   "source": [
    "#### Задача 4.  \n",
    "По данному натуральном n вычислите сумму $1!+2!+3!+...+n!$. В решении этой задачи можно использовать только один цикл.  \n",
    "*Тест1*  \n",
    "**Вход:** \n",
    "\n",
    "            1\n",
    "            \n",
    "**Выход:** \n",
    "\n",
    "            1\n",
    "            \n",
    "            \n",
    "            \n",
    "*Тест2*  \n",
    "**Вход:** \n",
    "\n",
    "            2\n",
    "            \n",
    "**Выход:** \n",
    "\n",
    "            3\n",
    "            \n",
    "            \n",
    "            \n",
    "            \n",
    "            \n",
    "*Тест3*  \n",
    "**Вход:** \n",
    "\n",
    "            3\n",
    "            \n",
    "**Выход:** \n",
    "\n",
    "            9\n",
    "            "
   ]
  },
  {
   "cell_type": "code",
   "execution_count": null,
   "metadata": {},
   "outputs": [],
   "source": []
  },
  {
   "cell_type": "markdown",
   "metadata": {},
   "source": [
    "**Задача 5**. Найдите максимальный элемент и его позицию в последовательности чисел, записанных через пробел."
   ]
  },
  {
   "cell_type": "code",
   "execution_count": null,
   "metadata": {},
   "outputs": [],
   "source": []
  },
  {
   "cell_type": "markdown",
   "metadata": {},
   "source": [
    "#### Задача 6.  \n",
    "Дано целое положительное число N. Составьте таблицу умножения для чисел от 2 до N включительно.   \n",
    "**Вход:** \n",
    "\n",
    "            4\n",
    "            \n",
    "**Выход:** \n",
    "\n",
    "            2*1=2\n",
    "            2*2=4\n",
    "            2*3=6\n",
    "            2*4=8\n",
    "            2*5=10\n",
    "            2*6=12\n",
    "            2*7=14\n",
    "            2*8=16\n",
    "            2*9=18\n",
    "            2*10=20\n",
    "\n",
    "            3*1=3\n",
    "            3*2=6\n",
    "            3*3=9\n",
    "            3*4=12\n",
    "            3*5=15\n",
    "            3*6=18\n",
    "            3*7=21\n",
    "            3*8=24\n",
    "            3*9=27\n",
    "            3*10=30\n",
    "\n",
    "            4*1=4\n",
    "            4*2=8\n",
    "            4*3=12\n",
    "            4*4=16\n",
    "            4*5=20\n",
    "            4*6=24\n",
    "            4*7=28\n",
    "            4*8=32\n",
    "            4*9=36\n",
    "            4*10=40\n",
    "            "
   ]
  },
  {
   "cell_type": "code",
   "execution_count": null,
   "metadata": {},
   "outputs": [],
   "source": []
  }
 ],
 "metadata": {
  "kernelspec": {
   "display_name": "Python 3",
   "language": "python",
   "name": "python3"
  },
  "language_info": {
   "codemirror_mode": {
    "name": "ipython",
    "version": 3
   },
   "file_extension": ".py",
   "mimetype": "text/x-python",
   "name": "python",
   "nbconvert_exporter": "python",
   "pygments_lexer": "ipython3",
   "version": "3.7.3"
  }
 },
 "nbformat": 4,
 "nbformat_minor": 2
}
