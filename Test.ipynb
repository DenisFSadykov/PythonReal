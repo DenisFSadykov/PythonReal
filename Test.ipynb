{
 "cells": [
  {
   "cell_type": "markdown",
   "id": "ba17c45b-8a64-47f4-b0cf-1d7de3f716f6",
   "metadata": {},
   "source": [
    "# Ghghg\n",
    "hfjhjh\n",
    "fgjghhg\n"
   ]
  },
  {
   "cell_type": "code",
   "execution_count": 3,
   "id": "780c8697-d5d5-4ccc-9c04-d1e14d35c773",
   "metadata": {},
   "outputs": [
    {
     "name": "stdout",
     "output_type": "stream",
     "text": [
      "Hallo\n"
     ]
    }
   ],
   "source": [
    "print (\"Hallo\")"
   ]
  },
  {
   "cell_type": "code",
   "execution_count": null,
   "id": "52efd961-f011-47fe-ad25-61a977855e1c",
   "metadata": {},
   "outputs": [],
   "source": []
  },
  {
   "cell_type": "code",
   "execution_count": null,
   "id": "b549eed9-d7d6-4d85-8b12-55bd32ce860e",
   "metadata": {},
   "outputs": [],
   "source": []
  }
 ],
 "metadata": {
  "kernelspec": {
   "display_name": "Python 3",
   "language": "python",
   "name": "python3"
  },
  "language_info": {
   "codemirror_mode": {
    "name": "ipython",
    "version": 3
   },
   "file_extension": ".py",
   "mimetype": "text/x-python",
   "name": "python",
   "nbconvert_exporter": "python",
   "pygments_lexer": "ipython3",
   "version": "3.8.8"
  }
 },
 "nbformat": 4,
 "nbformat_minor": 5
}
