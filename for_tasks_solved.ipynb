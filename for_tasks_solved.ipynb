{
 "cells": [
  {
   "cell_type": "markdown",
   "metadata": {},
   "source": [
    "#### Задача 1.  \n",
    "##### Даны два целых числа A и В. Выведите все числа от A до B включительно,  \n",
    "#### в порядке возрастания, если A < B, или в порядке убывания в противном случае.  \n",
    "**Вход:** \n",
    "\n",
    "            1\n",
    "            10\n",
    "            \n",
    "**Выход:** \n",
    "\n",
    "            1 2 3 4 5 6 7 8 9 10 \n",
    "            \n",
    "            \n",
    "**Вход:** \n",
    "\n",
    "            10\n",
    "            1\n",
    "            \n",
    "**Выход:** \n",
    "\n",
    "            10 9 8 7 6 5 4 3 2 1 "
   ]
  },
  {
   "cell_type": "code",
   "execution_count": 132,
   "metadata": {},
   "outputs": [
    {
     "name": "stdout",
     "output_type": "stream",
     "text": [
      "5\n",
      "5\n",
      "5\n"
     ]
    }
   ],
   "source": [
    "A = int(input())\n",
    "B = int(input())\n",
    "if A < B:\n",
    "#     lst1 = [i for i in range(A,B+1)]\n",
    "    print(*range(A,B+1))\n",
    "else:\n",
    "#     lst2 = [i for i in range(A,B-1,-1)]\n",
    "    print(*range(A,B-1,-1))"
   ]
  },
  {
   "cell_type": "markdown",
   "metadata": {},
   "source": [
    "#### Задача 2.  \n",
    "#### Дано несколько чисел. Посчитайте, сколько из них равны нулю, и выведите это количество.   \n",
    "**Вход:** \n",
    "\n",
    "            5 0 7 0 2 2\n",
    "            \n",
    "**Выход:** \n",
    "\n",
    "            2\n",
    "            "
   ]
  },
  {
   "cell_type": "code",
   "execution_count": 144,
   "metadata": {},
   "outputs": [
    {
     "name": "stdout",
     "output_type": "stream",
     "text": [
      "3 0 0 0 0 0\n",
      "5\n"
     ]
    }
   ],
   "source": [
    "lst = map(int, input().split())\n",
    "cnt = 0\n",
    "\n",
    "for x in lst:\n",
    "    if x == 0:\n",
    "        cnt += 1\n",
    "print(cnt)"
   ]
  },
  {
   "cell_type": "code",
   "execution_count": 143,
   "metadata": {},
   "outputs": [
    {
     "name": "stdout",
     "output_type": "stream",
     "text": [
      "\n",
      "0\n"
     ]
    }
   ],
   "source": [
    "lst = map(int, input().split())\n",
    "lst = [x for x in lst if x == 0]\n",
    "print(len(lst))"
   ]
  },
  {
   "cell_type": "markdown",
   "metadata": {},
   "source": [
    "#### Задача 3.  \n",
    "###  Найдите и выведите все двузначные числа, которые равны удвоенному произведению своих цифр."
   ]
  },
  {
   "cell_type": "code",
   "execution_count": 154,
   "metadata": {},
   "outputs": [
    {
     "name": "stdout",
     "output_type": "stream",
     "text": [
      "36\n"
     ]
    }
   ],
   "source": [
    "print(*[x for x in range(10, 100) if x == (x // 10) * (x % 10) * 2])"
   ]
  },
  {
   "cell_type": "markdown",
   "metadata": {},
   "source": [
    "#### Задача 4.  \n",
    "По данному натуральном n вычислите сумму $1!+2!+3!+...+n!$. В решении этой задачи можно использовать только один цикл.  \n",
    "*Тест1*  \n",
    "**Вход:** \n",
    "\n",
    "            1\n",
    "            \n",
    "**Выход:** \n",
    "\n",
    "            1\n",
    "            \n",
    "            \n",
    "            \n",
    "*Тест2*  \n",
    "**Вход:** \n",
    "\n",
    "            2\n",
    "            \n",
    "**Выход:** \n",
    "\n",
    "            3\n",
    "            \n",
    "            \n",
    "            \n",
    "            \n",
    "            \n",
    "*Тест3*  \n",
    "**Вход:** \n",
    "\n",
    "            3\n",
    "            \n",
    "**Выход:** \n",
    "\n",
    "            9\n",
    "            "
   ]
  },
  {
   "cell_type": "code",
   "execution_count": 161,
   "metadata": {},
   "outputs": [
    {
     "name": "stdout",
     "output_type": "stream",
     "text": [
      "5\n",
      "1 1\n",
      "2 3\n",
      "6 9\n",
      "24 33\n",
      "120 153\n"
     ]
    }
   ],
   "source": [
    "n = int(input())\n",
    "\n",
    "s = 0\n",
    "fact = 1\n",
    "\n",
    "for x in range(1,n+1):\n",
    "    fact *= x\n",
    "    s += fact\n",
    "    print(fact, s)\n"
   ]
  },
  {
   "cell_type": "markdown",
   "metadata": {},
   "source": [
    "**Задача 5**. Найдите максимальный элемент и его позицию в последовательности чисел, записанных через пробел."
   ]
  },
  {
   "cell_type": "code",
   "execution_count": null,
   "metadata": {},
   "outputs": [],
   "source": [
    "spisok = list(map(int, input().split()))\n",
    "\n",
    "mx = spisok[0]\n",
    "max_i = 0\n",
    "for i, x in enumerate(spisok):\n",
    "    if x > mx:\n",
    "        mx = x\n",
    "        max_i = i\n",
    "print(mx, max_i)"
   ]
  },
  {
   "cell_type": "markdown",
   "metadata": {},
   "source": [
    "#### Задача 6.  \n",
    "Дано целое положительное число N. Составьте таблицу умножения для чисел от 2 до N включительно.   \n",
    "**Вход:** \n",
    "\n",
    "            4\n",
    "            \n",
    "**Выход:** \n",
    "\n",
    "            2*1=2\n",
    "            2*2=4\n",
    "            2*3=6\n",
    "            2*4=8\n",
    "            2*5=10\n",
    "            2*6=12\n",
    "            2*7=14\n",
    "            2*8=16\n",
    "            2*9=18\n",
    "            2*10=20\n",
    "\n",
    "            3*1=3\n",
    "            3*2=6\n",
    "            3*3=9\n",
    "            3*4=12\n",
    "            3*5=15\n",
    "            3*6=18\n",
    "            3*7=21\n",
    "            3*8=24\n",
    "            3*9=27\n",
    "            3*10=30\n",
    "\n",
    "            4*1=4\n",
    "            4*2=8\n",
    "            4*3=12\n",
    "            4*4=16\n",
    "            4*5=20\n",
    "            4*6=24\n",
    "            4*7=28\n",
    "            4*8=32\n",
    "            4*9=36\n",
    "            4*10=40\n",
    "            "
   ]
  },
  {
   "cell_type": "code",
   "execution_count": 159,
   "metadata": {},
   "outputs": [
    {
     "name": "stdout",
     "output_type": "stream",
     "text": [
      "10\n",
      "2*1=2\n",
      "2*2=4\n",
      "2*3=6\n",
      "2*4=8\n",
      "2*5=10\n",
      "2*6=12\n",
      "2*7=14\n",
      "2*8=16\n",
      "2*9=18\n",
      "2*10=20\n",
      "\n",
      "3*1=3\n",
      "3*2=6\n",
      "3*3=9\n",
      "3*4=12\n",
      "3*5=15\n",
      "3*6=18\n",
      "3*7=21\n",
      "3*8=24\n",
      "3*9=27\n",
      "3*10=30\n",
      "\n",
      "4*1=4\n",
      "4*2=8\n",
      "4*3=12\n",
      "4*4=16\n",
      "4*5=20\n",
      "4*6=24\n",
      "4*7=28\n",
      "4*8=32\n",
      "4*9=36\n",
      "4*10=40\n",
      "\n",
      "5*1=5\n",
      "5*2=10\n",
      "5*3=15\n",
      "5*4=20\n",
      "5*5=25\n",
      "5*6=30\n",
      "5*7=35\n",
      "5*8=40\n",
      "5*9=45\n",
      "5*10=50\n",
      "\n",
      "6*1=6\n",
      "6*2=12\n",
      "6*3=18\n",
      "6*4=24\n",
      "6*5=30\n",
      "6*6=36\n",
      "6*7=42\n",
      "6*8=48\n",
      "6*9=54\n",
      "6*10=60\n",
      "\n",
      "7*1=7\n",
      "7*2=14\n",
      "7*3=21\n",
      "7*4=28\n",
      "7*5=35\n",
      "7*6=42\n",
      "7*7=49\n",
      "7*8=56\n",
      "7*9=63\n",
      "7*10=70\n",
      "\n",
      "8*1=8\n",
      "8*2=16\n",
      "8*3=24\n",
      "8*4=32\n",
      "8*5=40\n",
      "8*6=48\n",
      "8*7=56\n",
      "8*8=64\n",
      "8*9=72\n",
      "8*10=80\n",
      "\n",
      "9*1=9\n",
      "9*2=18\n",
      "9*3=27\n",
      "9*4=36\n",
      "9*5=45\n",
      "9*6=54\n",
      "9*7=63\n",
      "9*8=72\n",
      "9*9=81\n",
      "9*10=90\n",
      "\n",
      "10*1=10\n",
      "10*2=20\n",
      "10*3=30\n",
      "10*4=40\n",
      "10*5=50\n",
      "10*6=60\n",
      "10*7=70\n",
      "10*8=80\n",
      "10*9=90\n",
      "10*10=100\n",
      "\n"
     ]
    }
   ],
   "source": [
    "n = int(input())\n",
    "\n",
    "for x in range(2,n+1):\n",
    "    for y in range(1,11):\n",
    "        print(f'{x}*{y}={x*y}')\n",
    "    print()"
   ]
  },
  {
   "cell_type": "code",
   "execution_count": null,
   "metadata": {},
   "outputs": [],
   "source": []
  }
 ],
 "metadata": {
  "kernelspec": {
   "display_name": "Python 3",
   "language": "python",
   "name": "python3"
  },
  "language_info": {
   "codemirror_mode": {
    "name": "ipython",
    "version": 3
   },
   "file_extension": ".py",
   "mimetype": "text/x-python",
   "name": "python",
   "nbconvert_exporter": "python",
   "pygments_lexer": "ipython3",
   "version": "3.8.8"
  }
 },
 "nbformat": 4,
 "nbformat_minor": 4
}
